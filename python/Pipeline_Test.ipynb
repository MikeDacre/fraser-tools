{
 "cells": [
  {
   "cell_type": "code",
   "execution_count": 1,
   "metadata": {
    "collapsed": false,
    "scrolled": true
   },
   "outputs": [],
   "source": [
    "import pipeline as pl\n",
    "pipeline = pl.get_pipeline('test_pipeline')"
   ]
  },
  {
   "cell_type": "code",
   "execution_count": 2,
   "metadata": {
    "collapsed": false
   },
   "outputs": [],
   "source": [
    "pipeline.add_command('cat <StepFile>', file_list=['hi.txt', 'bye.txt'])"
   ]
  },
  {
   "cell_type": "code",
   "execution_count": 3,
   "metadata": {
    "collapsed": false
   },
   "outputs": [],
   "source": [
    "pipeline['cat'].run_parallel()"
   ]
  },
  {
   "cell_type": "code",
   "execution_count": 4,
   "metadata": {
    "collapsed": false
   },
   "outputs": [
    {
     "name": "stdout",
     "output_type": "stream",
     "text": [
      "Pipeline:\n",
      "Step   Name   Status\n",
      "0      cat    Done\n",
      "\n"
     ]
    }
   ],
   "source": [
    "print(pipeline)"
   ]
  },
  {
   "cell_type": "code",
   "execution_count": 5,
   "metadata": {
    "collapsed": false
   },
   "outputs": [
    {
     "name": "stdout",
     "output_type": "stream",
     "text": [
      "Step:      cat\n",
      "Command:   cat <StepFile>, Args: None\n",
      "State:     COMPLETE\n",
      "File list: ['hi.txt', 'bye.txt']\n",
      "Ran on:    Tue Jan 26 15:57:28 2016\n",
      "Runtime:   0:00:00.015530\n",
      "Output:    False\n",
      "STDERR:    False\n"
     ]
    }
   ],
   "source": [
    "print(pipeline['cat'])"
   ]
  },
  {
   "cell_type": "code",
   "execution_count": 6,
   "metadata": {
    "collapsed": false
   },
   "outputs": [
    {
     "name": "stdout",
     "output_type": "stream",
     "text": [
      "\n",
      "\n",
      "Step:      hi.txt\n",
      "Command:   cat hi.txt, Args: None\n",
      "State:     COMPLETE\n",
      "Exit code: 0\n",
      "Ran on:    Tue Jan 26 15:57:28 2016\n",
      "Runtime:   0:00:00.005666\n",
      "Output:    True\n",
      "STDERR:    False\n",
      "\n",
      "Output:\n",
      "hello\n",
      "\n",
      "Step:      bye.txt\n",
      "Command:   cat bye.txt, Args: None\n",
      "State:     COMPLETE\n",
      "Exit code: 0\n",
      "Ran on:    Tue Jan 26 15:57:28 2016\n",
      "Runtime:   0:00:00.005781\n",
      "Output:    True\n",
      "STDERR:    False\n",
      "\n",
      "Output:\n",
      "Goodbye\n"
     ]
    }
   ],
   "source": [
    "print(pipeline['cat'].get_steps())"
   ]
  }
 ],
 "metadata": {
  "kernelspec": {
   "display_name": "Python 3",
   "language": "python",
   "name": "python3"
  },
  "language_info": {
   "codemirror_mode": {
    "name": "ipython",
    "version": 3
   },
   "file_extension": ".py",
   "mimetype": "text/x-python",
   "name": "python",
   "nbconvert_exporter": "python",
   "pygments_lexer": "ipython3",
   "version": "3.5.1"
  }
 },
 "nbformat": 4,
 "nbformat_minor": 0
}
