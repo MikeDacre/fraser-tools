{
 "cells": [
  {
   "cell_type": "markdown",
   "metadata": {
    "run_control": {
     "frozen": false,
     "read_only": false
    }
   },
   "source": [
    "# Use SQLAlchemy with the UCSC Database\n",
    "\n",
    "\n",
    "We are going to use SQLAlchemy first to pull a list of tables, and then to create an ORM of the table we care about, in this case SNP147.\n",
    "\n",
    "To do this we will be makign use of SQLAlchemy's [autmapping functionality](http://docs.sqlalchemy.org/en/latest/orm/extensions/automap.html), which creates ORM object directly from tables. Unfortunately, it fails with a number of USCS tables because they don't have detectable primary keys, which are required for the ORM. Because of this we will first inspect the database and dump a list of tables, and then explicity declare a class for the table we care about. SQLAlchemy will fill in all extra columns for us, so we only need to explicitly declare the class and primary key, everything else is done for us."
   ]
  },
  {
   "cell_type": "code",
   "execution_count": 1,
   "metadata": {
    "ExecuteTime": {
     "end_time": "2017-02-09T11:05:39.414740",
     "start_time": "2017-02-09T11:05:39.244869"
    },
    "collapsed": true
   },
   "outputs": [],
   "source": [
    "import pandas as pd\n",
    "from sqlalchemy import inspect\n",
    "from sqlalchemy import create_engine\n",
    "from sqlalchemy import Column, Integer, String\n",
    "from sqlalchemy.orm import Session\n",
    "from sqlalchemy.sql import select\n",
    "from sqlalchemy.ext.automap import automap_base"
   ]
  },
  {
   "cell_type": "code",
   "execution_count": 2,
   "metadata": {
    "ExecuteTime": {
     "end_time": "2017-02-09T11:05:39.446926",
     "start_time": "2017-02-09T11:05:39.416023"
    },
    "collapsed": true
   },
   "outputs": [],
   "source": [
    "# Connect to the hg19 database\n",
    "engine = create_engine(\"mysql+pymysql://genome@genome-mysql.cse.ucsc.edu/{organism}?charset=utf8mb4\".format(organism='hg19'))"
   ]
  },
  {
   "cell_type": "markdown",
   "metadata": {},
   "source": [
    "# Get table"
   ]
  },
  {
   "cell_type": "code",
   "execution_count": 3,
   "metadata": {
    "ExecuteTime": {
     "end_time": "2017-02-09T11:05:43.089667",
     "start_time": "2017-02-09T11:05:39.448257"
    },
    "collapsed": false
   },
   "outputs": [],
   "source": [
    "# Get the list of tables\n",
    "inspector = inspect(engine)\n",
    "tables = inspector.get_table_names()"
   ]
  },
  {
   "cell_type": "markdown",
   "metadata": {},
   "source": [
    "This list is *very* long. You can just look through it, but we are going to filter it for tables that begin with 'snp'"
   ]
  },
  {
   "cell_type": "code",
   "execution_count": 4,
   "metadata": {
    "ExecuteTime": {
     "end_time": "2017-02-09T11:05:43.106050",
     "start_time": "2017-02-09T11:05:43.090849"
    },
    "collapsed": false
   },
   "outputs": [
    {
     "data": {
      "text/plain": [
       "11048"
      ]
     },
     "execution_count": 4,
     "metadata": {},
     "output_type": "execute_result"
    }
   ],
   "source": [
    "len(tables)"
   ]
  },
  {
   "cell_type": "code",
   "execution_count": 5,
   "metadata": {
    "ExecuteTime": {
     "end_time": "2017-02-09T11:05:43.130086",
     "start_time": "2017-02-09T11:05:43.108442"
    },
    "collapsed": true
   },
   "outputs": [],
   "source": [
    "snp_tables = [i for i in tables if i.startswith('snp')]"
   ]
  },
  {
   "cell_type": "code",
   "execution_count": 6,
   "metadata": {
    "ExecuteTime": {
     "end_time": "2017-02-09T11:05:43.147156",
     "start_time": "2017-02-09T11:05:43.131714"
    },
    "collapsed": false,
    "scrolled": true
   },
   "outputs": [
    {
     "data": {
      "text/plain": [
       "['snp138',\n",
       " 'snp138CodingDbSnp',\n",
       " 'snp138Common',\n",
       " 'snp138ExceptionDesc',\n",
       " 'snp138Flagged',\n",
       " 'snp138Mult',\n",
       " 'snp138OrthoPt4Pa2Rm3',\n",
       " 'snp138Seq',\n",
       " 'snp141',\n",
       " 'snp141CodingDbSnp',\n",
       " 'snp141Common',\n",
       " 'snp141ExceptionDesc',\n",
       " 'snp141Flagged',\n",
       " 'snp141OrthoPt4Pa2Rm3',\n",
       " 'snp141Seq',\n",
       " 'snp142',\n",
       " 'snp142CodingDbSnp',\n",
       " 'snp142Common',\n",
       " 'snp142ExceptionDesc',\n",
       " 'snp142Flagged',\n",
       " 'snp142Mult',\n",
       " 'snp142OrthoPt4Pa2Rm3',\n",
       " 'snp142Seq',\n",
       " 'snp144',\n",
       " 'snp144CodingDbSnp',\n",
       " 'snp144Common',\n",
       " 'snp144ExceptionDesc',\n",
       " 'snp144Flagged',\n",
       " 'snp144Mult',\n",
       " 'snp144OrthoPt4Pa2Rm3',\n",
       " 'snp144Seq',\n",
       " 'snp146',\n",
       " 'snp146CodingDbSnp',\n",
       " 'snp146Common',\n",
       " 'snp146ExceptionDesc',\n",
       " 'snp146Flagged',\n",
       " 'snp146Mult',\n",
       " 'snp146OrthoPt4Pa2Rm3',\n",
       " 'snp146Seq',\n",
       " 'snp147',\n",
       " 'snp147CodingDbSnp',\n",
       " 'snp147Common',\n",
       " 'snp147ExceptionDesc',\n",
       " 'snp147Flagged',\n",
       " 'snp147Mult',\n",
       " 'snp147OrthoPt4Pa2Rm3',\n",
       " 'snp147Seq',\n",
       " 'snpArrayAffy250Nsp',\n",
       " 'snpArrayAffy250Sty',\n",
       " 'snpArrayAffy5',\n",
       " 'snpArrayAffy6',\n",
       " 'snpArrayAffy6SV',\n",
       " 'snpArrayIllumina1M',\n",
       " 'snpArrayIllumina1MRaw',\n",
       " 'snpArrayIllumina300',\n",
       " 'snpArrayIllumina550',\n",
       " 'snpArrayIllumina650',\n",
       " 'snpArrayIlluminaHuman660W_Quad',\n",
       " 'snpArrayIlluminaHuman660W_QuadRaw',\n",
       " 'snpArrayIlluminaHumanCytoSNP_12',\n",
       " 'snpArrayIlluminaHumanCytoSNP_12Raw',\n",
       " 'snpArrayIlluminaHumanOmni1_Quad',\n",
       " 'snpArrayIlluminaHumanOmni1_QuadRaw']"
      ]
     },
     "execution_count": 6,
     "metadata": {},
     "output_type": "execute_result"
    }
   ],
   "source": [
    "sorted(snp_tables)"
   ]
  },
  {
   "cell_type": "markdown",
   "metadata": {},
   "source": [
    "OK, so let's use snp147."
   ]
  },
  {
   "cell_type": "markdown",
   "metadata": {},
   "source": [
    "# Get Columns and Build ORM\n",
    "\n",
    "We are now going to make the ORM, so let's check the actual columns of the table."
   ]
  },
  {
   "cell_type": "code",
   "execution_count": 7,
   "metadata": {
    "ExecuteTime": {
     "end_time": "2017-02-09T11:05:43.193024",
     "start_time": "2017-02-09T11:05:43.148524"
    },
    "collapsed": false,
    "scrolled": true
   },
   "outputs": [
    {
     "data": {
      "text/plain": [
       "[{'autoincrement': False,\n",
       "  'default': None,\n",
       "  'name': 'bin',\n",
       "  'nullable': False,\n",
       "  'type': SMALLINT(display_width=5, unsigned=True)},\n",
       " {'default': None,\n",
       "  'name': 'chrom',\n",
       "  'nullable': False,\n",
       "  'type': VARCHAR(length=31)},\n",
       " {'autoincrement': False,\n",
       "  'default': None,\n",
       "  'name': 'chromStart',\n",
       "  'nullable': False,\n",
       "  'type': INTEGER(display_width=10, unsigned=True)},\n",
       " {'autoincrement': False,\n",
       "  'default': None,\n",
       "  'name': 'chromEnd',\n",
       "  'nullable': False,\n",
       "  'type': INTEGER(display_width=10, unsigned=True)},\n",
       " {'default': None,\n",
       "  'name': 'name',\n",
       "  'nullable': False,\n",
       "  'type': VARCHAR(length=15)},\n",
       " {'autoincrement': False,\n",
       "  'default': None,\n",
       "  'name': 'score',\n",
       "  'nullable': False,\n",
       "  'type': SMALLINT(display_width=5, unsigned=True)},\n",
       " {'default': None,\n",
       "  'name': 'strand',\n",
       "  'nullable': False,\n",
       "  'type': ENUM('+', '-')},\n",
       " {'default': None, 'name': 'refNCBI', 'nullable': False, 'type': BLOB()},\n",
       " {'default': None, 'name': 'refUCSC', 'nullable': False, 'type': BLOB()},\n",
       " {'default': None,\n",
       "  'name': 'observed',\n",
       "  'nullable': False,\n",
       "  'type': VARCHAR(length=255)},\n",
       " {'default': None,\n",
       "  'name': 'molType',\n",
       "  'nullable': False,\n",
       "  'type': ENUM('unknown', 'genomic', 'cDNA')},\n",
       " {'default': None,\n",
       "  'name': 'class',\n",
       "  'nullable': False,\n",
       "  'type': ENUM('single', 'in-del', 'microsatellite', 'named', 'mnp', 'insertion', 'deletion')},\n",
       " {'default': None, 'name': 'valid', 'nullable': False, 'type': SET(length=15)},\n",
       " {'default': None, 'name': 'avHet', 'nullable': False, 'type': FLOAT()},\n",
       " {'default': None, 'name': 'avHetSE', 'nullable': False, 'type': FLOAT()},\n",
       " {'default': None, 'name': 'func', 'nullable': False, 'type': SET(length=14)},\n",
       " {'default': None,\n",
       "  'name': 'locType',\n",
       "  'nullable': False,\n",
       "  'type': ENUM('range', 'exact', 'between', 'rangeInsertion', 'rangeSubstitution', 'rangeDeletion', 'fuzzy')},\n",
       " {'autoincrement': False,\n",
       "  'default': None,\n",
       "  'name': 'weight',\n",
       "  'nullable': False,\n",
       "  'type': INTEGER(display_width=10, unsigned=True)},\n",
       " {'default': None,\n",
       "  'name': 'exceptions',\n",
       "  'nullable': False,\n",
       "  'type': SET(length=26)},\n",
       " {'autoincrement': False,\n",
       "  'default': None,\n",
       "  'name': 'submitterCount',\n",
       "  'nullable': False,\n",
       "  'type': SMALLINT(display_width=5, unsigned=True)},\n",
       " {'default': None,\n",
       "  'name': 'submitters',\n",
       "  'nullable': False,\n",
       "  'type': LONGBLOB()},\n",
       " {'autoincrement': False,\n",
       "  'default': None,\n",
       "  'name': 'alleleFreqCount',\n",
       "  'nullable': False,\n",
       "  'type': SMALLINT(display_width=5, unsigned=True)},\n",
       " {'default': None, 'name': 'alleles', 'nullable': False, 'type': LONGBLOB()},\n",
       " {'default': None, 'name': 'alleleNs', 'nullable': False, 'type': LONGBLOB()},\n",
       " {'default': None,\n",
       "  'name': 'alleleFreqs',\n",
       "  'nullable': False,\n",
       "  'type': LONGBLOB()},\n",
       " {'default': None,\n",
       "  'name': 'bitfields',\n",
       "  'nullable': False,\n",
       "  'type': SET(length=33)}]"
      ]
     },
     "execution_count": 7,
     "metadata": {},
     "output_type": "execute_result"
    }
   ],
   "source": [
    "inspector.get_columns('snp147')"
   ]
  },
  {
   "cell_type": "markdown",
   "metadata": {},
   "source": [
    "**There are a lot of columns, but the vast majority will automap just fine, so we don't need to do anything. However, we do need to add a primary key as none exists here.**\n",
    "\n",
    "I actually just want to look up the SNP name by the position, so I am going to explicitly declare a primary key (since I don't care about their primary key and **some UCSC tables have primary keys that are not dectected by the automapper**) and also declare the columns I care about. The table will end up with all columns, but I want to guarantee access to the columns that I care about."
   ]
  },
  {
   "cell_type": "code",
   "execution_count": 8,
   "metadata": {
    "ExecuteTime": {
     "end_time": "2017-02-09T11:07:02.806559",
     "start_time": "2017-02-09T11:05:43.194288"
    },
    "collapsed": false
   },
   "outputs": [],
   "source": [
    "# The automap base will detect all tables in the database and create classes for\n",
    "# as many as it can. Many UCSC tables don't become classes because the primary key\n",
    "# cannot be detected.\n",
    "Base = automap_base()\n",
    "\n",
    "class SNP147(Base):\n",
    "    __tablename__ = 'snp147'\n",
    "    \n",
    "    name = Column(String(length=15), primary_key=True, nullable=False)\n",
    "    \n",
    "    # The following columns do not need to be declared, the automapper will do it for\n",
    "    # us. I map them anyway for my own personal reference.\n",
    "    chrom      = Column(String(length=31), nullable=False)\n",
    "    chromStart = Column(Integer, nullable=False)\n",
    "    chromEnd   = Column(Integer, nullable=False)\n",
    "\n",
    "# reflect the tables\n",
    "Base.prepare(engine, reflect=True)"
   ]
  },
  {
   "cell_type": "code",
   "execution_count": 9,
   "metadata": {
    "ExecuteTime": {
     "end_time": "2017-02-09T11:07:02.821514",
     "start_time": "2017-02-09T11:07:02.808131"
    },
    "collapsed": true
   },
   "outputs": [],
   "source": [
    "session = Session(engine)"
   ]
  },
  {
   "cell_type": "markdown",
   "metadata": {},
   "source": [
    "# Query the table"
   ]
  },
  {
   "cell_type": "code",
   "execution_count": 10,
   "metadata": {
    "ExecuteTime": {
     "end_time": "2017-02-09T11:07:06.590669",
     "start_time": "2017-02-09T11:07:02.822862"
    },
    "collapsed": false
   },
   "outputs": [
    {
     "data": {
      "text/plain": [
       "('rs915311')"
      ]
     },
     "execution_count": 10,
     "metadata": {},
     "output_type": "execute_result"
    }
   ],
   "source": [
    "session.query(SNP147.name).filter(SNP147.chrom == 'chr1').filter(SNP147.chromEnd == 16952481).first()"
   ]
  },
  {
   "cell_type": "code",
   "execution_count": 11,
   "metadata": {
    "ExecuteTime": {
     "end_time": "2017-02-09T11:07:06.606709",
     "start_time": "2017-02-09T11:07:06.592264"
    },
    "collapsed": true
   },
   "outputs": [],
   "source": [
    "positions = [\n",
    "    154326279,\n",
    "    11029552,\n",
    "    241803636,\n",
    "    59165838,\n",
    "    39991588,\n",
    "    204733046,\n",
    "    16341354,\n",
    "    16971948,\n",
    "    154056834,\n",
    "    9712006\n",
    "]"
   ]
  },
  {
   "cell_type": "code",
   "execution_count": 12,
   "metadata": {
    "ExecuteTime": {
     "end_time": "2017-02-09T11:07:06.622075",
     "start_time": "2017-02-09T11:07:06.608088"
    },
    "collapsed": false
   },
   "outputs": [],
   "source": [
    "q = session.query(SNP147.name).filter(SNP147.chrom == 'chr1').filter(SNP147.chromEnd.in_(positions))"
   ]
  },
  {
   "cell_type": "code",
   "execution_count": 13,
   "metadata": {
    "ExecuteTime": {
     "end_time": "2017-02-09T11:07:52.822993",
     "start_time": "2017-02-09T11:07:06.623564"
    },
    "collapsed": false
   },
   "outputs": [
    {
     "data": {
      "text/plain": [
       "[('rs78800005'),\n",
       " ('rs74052099'),\n",
       " ('rs1048245'),\n",
       " ('rs2209174'),\n",
       " ('rs3738676'),\n",
       " ('rs11207297'),\n",
       " ('rs72694300'),\n",
       " ('rs4040747'),\n",
       " ('rs12034642'),\n",
       " ('rs7513575')]"
      ]
     },
     "execution_count": 13,
     "metadata": {},
     "output_type": "execute_result"
    }
   ],
   "source": [
    "q.all()"
   ]
  },
  {
   "cell_type": "code",
   "execution_count": 14,
   "metadata": {
    "ExecuteTime": {
     "end_time": "2017-02-09T11:08:39.215029",
     "start_time": "2017-02-09T11:07:52.826283"
    },
    "collapsed": false
   },
   "outputs": [],
   "source": [
    "df = pd.read_sql_query(q.statement, engine)"
   ]
  },
  {
   "cell_type": "code",
   "execution_count": 15,
   "metadata": {
    "ExecuteTime": {
     "end_time": "2017-02-09T11:08:39.234590",
     "start_time": "2017-02-09T11:08:39.216478"
    },
    "collapsed": false
   },
   "outputs": [
    {
     "data": {
      "text/html": [
       "<div>\n",
       "<table border=\"1\" class=\"dataframe\">\n",
       "  <thead>\n",
       "    <tr style=\"text-align: right;\">\n",
       "      <th></th>\n",
       "      <th>name</th>\n",
       "    </tr>\n",
       "  </thead>\n",
       "  <tbody>\n",
       "    <tr>\n",
       "      <th>0</th>\n",
       "      <td>rs78800005</td>\n",
       "    </tr>\n",
       "    <tr>\n",
       "      <th>1</th>\n",
       "      <td>rs74052099</td>\n",
       "    </tr>\n",
       "    <tr>\n",
       "      <th>2</th>\n",
       "      <td>rs1048245</td>\n",
       "    </tr>\n",
       "    <tr>\n",
       "      <th>3</th>\n",
       "      <td>rs2209174</td>\n",
       "    </tr>\n",
       "    <tr>\n",
       "      <th>4</th>\n",
       "      <td>rs3738676</td>\n",
       "    </tr>\n",
       "    <tr>\n",
       "      <th>5</th>\n",
       "      <td>rs11207297</td>\n",
       "    </tr>\n",
       "    <tr>\n",
       "      <th>6</th>\n",
       "      <td>rs72694300</td>\n",
       "    </tr>\n",
       "    <tr>\n",
       "      <th>7</th>\n",
       "      <td>rs4040747</td>\n",
       "    </tr>\n",
       "    <tr>\n",
       "      <th>8</th>\n",
       "      <td>rs12034642</td>\n",
       "    </tr>\n",
       "    <tr>\n",
       "      <th>9</th>\n",
       "      <td>rs7513575</td>\n",
       "    </tr>\n",
       "  </tbody>\n",
       "</table>\n",
       "</div>"
      ],
      "text/plain": [
       "         name\n",
       "0  rs78800005\n",
       "1  rs74052099\n",
       "2   rs1048245\n",
       "3   rs2209174\n",
       "4   rs3738676\n",
       "5  rs11207297\n",
       "6  rs72694300\n",
       "7   rs4040747\n",
       "8  rs12034642\n",
       "9   rs7513575"
      ]
     },
     "execution_count": 15,
     "metadata": {},
     "output_type": "execute_result"
    }
   ],
   "source": [
    "df"
   ]
  },
  {
   "cell_type": "code",
   "execution_count": 16,
   "metadata": {
    "ExecuteTime": {
     "end_time": "2017-02-09T11:09:25.690168",
     "start_time": "2017-02-09T11:08:39.236182"
    },
    "collapsed": true
   },
   "outputs": [],
   "source": [
    "df2 = pd.read_sql_query(\n",
    "    session.query(SNP147.name, SNP147.chrom, SNP147.chromEnd).filter(SNP147.chrom == 'chr1').filter(SNP147.chromEnd.in_(positions)).statement,\n",
    "    engine\n",
    ")"
   ]
  },
  {
   "cell_type": "code",
   "execution_count": 17,
   "metadata": {
    "ExecuteTime": {
     "end_time": "2017-02-09T11:09:25.723277",
     "start_time": "2017-02-09T11:09:25.692398"
    },
    "collapsed": false
   },
   "outputs": [
    {
     "data": {
      "text/html": [
       "<div>\n",
       "<table border=\"1\" class=\"dataframe\">\n",
       "  <thead>\n",
       "    <tr style=\"text-align: right;\">\n",
       "      <th></th>\n",
       "      <th>name</th>\n",
       "      <th>chrom</th>\n",
       "      <th>chromEnd</th>\n",
       "    </tr>\n",
       "  </thead>\n",
       "  <tbody>\n",
       "    <tr>\n",
       "      <th>0</th>\n",
       "      <td>rs78800005</td>\n",
       "      <td>chr1</td>\n",
       "      <td>9712006</td>\n",
       "    </tr>\n",
       "    <tr>\n",
       "      <th>1</th>\n",
       "      <td>rs74052099</td>\n",
       "      <td>chr1</td>\n",
       "      <td>11029552</td>\n",
       "    </tr>\n",
       "    <tr>\n",
       "      <th>2</th>\n",
       "      <td>rs1048245</td>\n",
       "      <td>chr1</td>\n",
       "      <td>16341354</td>\n",
       "    </tr>\n",
       "    <tr>\n",
       "      <th>3</th>\n",
       "      <td>rs2209174</td>\n",
       "      <td>chr1</td>\n",
       "      <td>16971948</td>\n",
       "    </tr>\n",
       "    <tr>\n",
       "      <th>4</th>\n",
       "      <td>rs3738676</td>\n",
       "      <td>chr1</td>\n",
       "      <td>39991588</td>\n",
       "    </tr>\n",
       "    <tr>\n",
       "      <th>5</th>\n",
       "      <td>rs11207297</td>\n",
       "      <td>chr1</td>\n",
       "      <td>59165838</td>\n",
       "    </tr>\n",
       "    <tr>\n",
       "      <th>6</th>\n",
       "      <td>rs72694300</td>\n",
       "      <td>chr1</td>\n",
       "      <td>154056834</td>\n",
       "    </tr>\n",
       "    <tr>\n",
       "      <th>7</th>\n",
       "      <td>rs4040747</td>\n",
       "      <td>chr1</td>\n",
       "      <td>154326279</td>\n",
       "    </tr>\n",
       "    <tr>\n",
       "      <th>8</th>\n",
       "      <td>rs12034642</td>\n",
       "      <td>chr1</td>\n",
       "      <td>204733046</td>\n",
       "    </tr>\n",
       "    <tr>\n",
       "      <th>9</th>\n",
       "      <td>rs7513575</td>\n",
       "      <td>chr1</td>\n",
       "      <td>241803636</td>\n",
       "    </tr>\n",
       "  </tbody>\n",
       "</table>\n",
       "</div>"
      ],
      "text/plain": [
       "         name chrom   chromEnd\n",
       "0  rs78800005  chr1    9712006\n",
       "1  rs74052099  chr1   11029552\n",
       "2   rs1048245  chr1   16341354\n",
       "3   rs2209174  chr1   16971948\n",
       "4   rs3738676  chr1   39991588\n",
       "5  rs11207297  chr1   59165838\n",
       "6  rs72694300  chr1  154056834\n",
       "7   rs4040747  chr1  154326279\n",
       "8  rs12034642  chr1  204733046\n",
       "9   rs7513575  chr1  241803636"
      ]
     },
     "execution_count": 17,
     "metadata": {},
     "output_type": "execute_result"
    }
   ],
   "source": [
    "df2"
   ]
  },
  {
   "cell_type": "markdown",
   "metadata": {},
   "source": [
    "That's it, simple! Yes, you can just query the MySQL directly, but this approach is much more robust for on-the-fly data analysis. It is easy to get SQL syntax wrong, but using SQLAlchemy in Jupyter is trivial."
   ]
  }
 ],
 "metadata": {
  "anaconda-cloud": {},
  "kernelspec": {
   "display_name": "Python [conda root]",
   "language": "python",
   "name": "conda-root-py"
  },
  "language_info": {
   "codemirror_mode": {
    "name": "ipython",
    "version": 3
   },
   "file_extension": ".py",
   "mimetype": "text/x-python",
   "name": "python",
   "nbconvert_exporter": "python",
   "pygments_lexer": "ipython3",
   "version": "3.5.2"
  },
  "toc": {
   "nav_menu": {
    "height": "102px",
    "width": "252px"
   },
   "navigate_menu": true,
   "number_sections": true,
   "sideBar": true,
   "threshold": 4,
   "toc_cell": false,
   "toc_section_display": "block",
   "toc_window_display": false
  }
 },
 "nbformat": 4,
 "nbformat_minor": 1
}
